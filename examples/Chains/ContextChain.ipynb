{
 "cells": [
  {
   "cell_type": "markdown",
   "id": "f7aea0a4-c5e0-473b-b382-305d9880624c",
   "metadata": {},
   "source": [
    "# Import Dependencies"
   ]
  },
  {
   "cell_type": "code",
   "execution_count": 6,
   "id": "b2d18360-a11a-49df-8708-781d19cf53c3",
   "metadata": {},
   "outputs": [],
   "source": [
    "from swarmauri.standard.chains.concrete.ContextChain import ContextChain\n",
    "from swarmauri.standard.tools.concrete.AdditionTool import AdditionTool"
   ]
  },
  {
   "cell_type": "markdown",
   "id": "bf5149f8-91f9-4926-a813-21625b04d060",
   "metadata": {},
   "source": [
    "# Instantiate Context"
   ]
  },
  {
   "cell_type": "code",
   "execution_count": 7,
   "id": "de22a10c-7510-4255-8fae-78603ead0793",
   "metadata": {},
   "outputs": [],
   "source": [
    "chain = ContextChain()"
   ]
  },
  {
   "cell_type": "markdown",
   "id": "fd90d2dc-8852-4051-96de-de09c9cbc452",
   "metadata": {},
   "source": [
    "# Type and Resource of Chain"
   ]
  },
  {
   "cell_type": "code",
   "execution_count": 8,
   "id": "340d796e-0575-4618-8813-2d8a64bc80e6",
   "metadata": {},
   "outputs": [
    {
     "data": {
      "text/plain": [
       "'Chain'"
      ]
     },
     "execution_count": 8,
     "metadata": {},
     "output_type": "execute_result"
    }
   ],
   "source": [
    "chain.resource"
   ]
  },
  {
   "cell_type": "code",
   "execution_count": 9,
   "id": "073ecf5f-7ea5-4f84-8292-84706efa9190",
   "metadata": {},
   "outputs": [
    {
     "data": {
      "text/plain": [
       "'ContextChain'"
      ]
     },
     "execution_count": 9,
     "metadata": {},
     "output_type": "execute_result"
    }
   ],
   "source": [
    "chain.type"
   ]
  },
  {
   "cell_type": "markdown",
   "id": "eab00e93-622b-4fce-badb-237a278b7873",
   "metadata": {},
   "source": [
    "# Chain execute state and value"
   ]
  },
  {
   "cell_type": "code",
   "execution_count": 14,
   "id": "205cafeb-7aef-4a3c-9b0e-b84d17f3d087",
   "metadata": {},
   "outputs": [],
   "source": [
    "ref = 'test_result' \n",
    "args = (1, 2) \n",
    "kwargs = {} \n",
    "tool = AdditionTool(name='AdditionTool')  \n",
    "chain.add_step(key='key_1', method=tool, args=args, kwargs=kwargs, ref='test_result') "
   ]
  },
  {
   "cell_type": "code",
   "execution_count": 15,
   "id": "2580fb6f-d7b7-4b94-b49b-b11e2d258c33",
   "metadata": {},
   "outputs": [
    {
     "data": {
      "text/plain": [
       "{'test_result': '3'}"
      ]
     },
     "execution_count": 15,
     "metadata": {},
     "output_type": "execute_result"
    }
   ],
   "source": [
    "chain.execute() "
   ]
  },
  {
   "cell_type": "code",
   "execution_count": 16,
   "id": "e6898906-2298-4bdb-b848-ce6d99f63c51",
   "metadata": {},
   "outputs": [
    {
     "data": {
      "text/plain": [
       "{'test_result': '3'}"
      ]
     },
     "execution_count": 16,
     "metadata": {},
     "output_type": "execute_result"
    }
   ],
   "source": [
    "chain.context\n"
   ]
  },
  {
   "cell_type": "code",
   "execution_count": 17,
   "id": "2ed318b9-d69a-436d-996d-71703bbf0b67",
   "metadata": {},
   "outputs": [
    {
     "ename": "ValidationError",
     "evalue": "2 validation errors for ContextChain\nsteps.0.method.type\n  Input should be 'ToolBase' [type=literal_error, input_value='AdditionTool', input_type=str]\n    For further information visit https://errors.pydantic.dev/2.8/v/literal_error\nsteps.1.method.type\n  Input should be 'ToolBase' [type=literal_error, input_value='AdditionTool', input_type=str]\n    For further information visit https://errors.pydantic.dev/2.8/v/literal_error",
     "output_type": "error",
     "traceback": [
      "\u001b[1;31m---------------------------------------------------------------------------\u001b[0m",
      "\u001b[1;31mValidationError\u001b[0m                           Traceback (most recent call last)",
      "Cell \u001b[1;32mIn[17], line 1\u001b[0m\n\u001b[1;32m----> 1\u001b[0m chain\u001b[38;5;241m.\u001b[39mid \u001b[38;5;241m==\u001b[39m \u001b[43mContextChain\u001b[49m\u001b[38;5;241;43m.\u001b[39;49m\u001b[43mmodel_validate_json\u001b[49m\u001b[43m(\u001b[49m\u001b[43mchain\u001b[49m\u001b[38;5;241;43m.\u001b[39;49m\u001b[43mmodel_dump_json\u001b[49m\u001b[43m(\u001b[49m\u001b[43m)\u001b[49m\u001b[43m)\u001b[49m\u001b[38;5;241m.\u001b[39mid\n",
      "File \u001b[1;32m~\\AppData\\Local\\Programs\\Python\\Python310\\lib\\site-packages\\pydantic\\main.py:597\u001b[0m, in \u001b[0;36mBaseModel.model_validate_json\u001b[1;34m(cls, json_data, strict, context)\u001b[0m\n\u001b[0;32m    595\u001b[0m \u001b[38;5;66;03m# `__tracebackhide__` tells pytest and some other tools to omit this function from tracebacks\u001b[39;00m\n\u001b[0;32m    596\u001b[0m __tracebackhide__ \u001b[38;5;241m=\u001b[39m \u001b[38;5;28;01mTrue\u001b[39;00m\n\u001b[1;32m--> 597\u001b[0m \u001b[38;5;28;01mreturn\u001b[39;00m \u001b[38;5;28;43mcls\u001b[39;49m\u001b[38;5;241;43m.\u001b[39;49m\u001b[43m__pydantic_validator__\u001b[49m\u001b[38;5;241;43m.\u001b[39;49m\u001b[43mvalidate_json\u001b[49m\u001b[43m(\u001b[49m\u001b[43mjson_data\u001b[49m\u001b[43m,\u001b[49m\u001b[43m \u001b[49m\u001b[43mstrict\u001b[49m\u001b[38;5;241;43m=\u001b[39;49m\u001b[43mstrict\u001b[49m\u001b[43m,\u001b[49m\u001b[43m \u001b[49m\u001b[43mcontext\u001b[49m\u001b[38;5;241;43m=\u001b[39;49m\u001b[43mcontext\u001b[49m\u001b[43m)\u001b[49m\n",
      "\u001b[1;31mValidationError\u001b[0m: 2 validation errors for ContextChain\nsteps.0.method.type\n  Input should be 'ToolBase' [type=literal_error, input_value='AdditionTool', input_type=str]\n    For further information visit https://errors.pydantic.dev/2.8/v/literal_error\nsteps.1.method.type\n  Input should be 'ToolBase' [type=literal_error, input_value='AdditionTool', input_type=str]\n    For further information visit https://errors.pydantic.dev/2.8/v/literal_error"
     ]
    }
   ],
   "source": [
    "chain.id == ContextChain.model_validate_json(chain.model_dump_json()).id"
   ]
  }
 ],
 "metadata": {
  "kernelspec": {
   "display_name": "Python 3 (ipykernel)",
   "language": "python",
   "name": "python3"
  },
  "language_info": {
   "codemirror_mode": {
    "name": "ipython",
    "version": 3
   },
   "file_extension": ".py",
   "mimetype": "text/x-python",
   "name": "python",
   "nbconvert_exporter": "python",
   "pygments_lexer": "ipython3",
   "version": "3.10.11"
  }
 },
 "nbformat": 4,
 "nbformat_minor": 5
}
