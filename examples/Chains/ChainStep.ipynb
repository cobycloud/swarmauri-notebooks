{
 "cells": [
  {
   "cell_type": "markdown",
   "id": "7a3027f7-19c0-4b21-9b25-201f9c43fb45",
   "metadata": {},
   "source": [
    "# Import Dependencies"
   ]
  },
  {
   "cell_type": "code",
   "execution_count": 1,
   "id": "8194383b-eb08-4f47-ae65-7ba38534a646",
   "metadata": {},
   "outputs": [
    {
     "name": "stderr",
     "output_type": "stream",
     "text": [
      "WARNING:root:Subclass Parameter does not have a type annotation\n"
     ]
    }
   ],
   "source": [
    "from swarmauri.standard.chains.concrete.ChainStep import ChainStep\n",
    "from swarmauri.standard.tools.concrete.AdditionTool import AdditionTool"
   ]
  },
  {
   "cell_type": "markdown",
   "id": "513beb50-479c-4910-b590-32dfdb8ae245",
   "metadata": {},
   "source": [
    "# Instantiate ChainStep"
   ]
  },
  {
   "cell_type": "code",
   "execution_count": 3,
   "id": "f857ed1b-146b-42c8-aef5-390ad8732216",
   "metadata": {},
   "outputs": [],
   "source": [
    "tool = AdditionTool() \n",
    "chain = ChainStep(key='test', method=tool, args=(1, 2), kwargs={}, ref=None)  "
   ]
  },
  {
   "cell_type": "markdown",
   "id": "a84ae987-d271-454c-a9bd-c563eaabadb9",
   "metadata": {},
   "source": [
    "# Resource and Type of Chain"
   ]
  },
  {
   "cell_type": "code",
   "execution_count": 4,
   "id": "b2ebdd3a-c00b-4ab1-9f61-a58d0006d254",
   "metadata": {},
   "outputs": [
    {
     "data": {
      "text/plain": [
       "'ChainStep'"
      ]
     },
     "execution_count": 4,
     "metadata": {},
     "output_type": "execute_result"
    }
   ],
   "source": [
    "chain.resource"
   ]
  },
  {
   "cell_type": "code",
   "execution_count": 5,
   "id": "ecfcd3bc-c8a4-4a91-951f-95ed5aae14c5",
   "metadata": {},
   "outputs": [
    {
     "data": {
      "text/plain": [
       "'ChainStep'"
      ]
     },
     "execution_count": 5,
     "metadata": {},
     "output_type": "execute_result"
    }
   ],
   "source": [
    "chain.type"
   ]
  },
  {
   "cell_type": "markdown",
   "id": "0bd5b207-2cf1-4b79-b146-bac9974d24cd",
   "metadata": {},
   "source": [
    "# Calling chain with method arguments"
   ]
  },
  {
   "cell_type": "code",
   "execution_count": 7,
   "id": "819ba3d5-49f7-40e8-990f-da3802b9064b",
   "metadata": {},
   "outputs": [
    {
     "data": {
      "text/plain": [
       "'3'"
      ]
     },
     "execution_count": 7,
     "metadata": {},
     "output_type": "execute_result"
    }
   ],
   "source": [
    "chain.method(*chain.args, **chain.kwargs) "
   ]
  },
  {
   "cell_type": "markdown",
   "id": "d1160c98-77b4-4c32-ad4a-0735e44c90a7",
   "metadata": {},
   "source": [
    "# Serialization"
   ]
  },
  {
   "cell_type": "code",
   "execution_count": 12,
   "id": "fa9fa869-4ee6-492c-bd83-2ab2b2ecfc37",
   "metadata": {},
   "outputs": [
    {
     "ename": "ValidationError",
     "evalue": "1 validation error for ChainStep\nmethod.type\n  Input should be 'ToolBase' [type=literal_error, input_value='AdditionTool', input_type=str]\n    For further information visit https://errors.pydantic.dev/2.8/v/literal_error",
     "output_type": "error",
     "traceback": [
      "\u001b[1;31m---------------------------------------------------------------------------\u001b[0m",
      "\u001b[1;31mValidationError\u001b[0m                           Traceback (most recent call last)",
      "Cell \u001b[1;32mIn[12], line 5\u001b[0m\n\u001b[0;32m      3\u001b[0m kwargs \u001b[38;5;241m=\u001b[39m {}\n\u001b[0;32m      4\u001b[0m step \u001b[38;5;241m=\u001b[39m ChainStep(key\u001b[38;5;241m=\u001b[39m\u001b[38;5;124m'\u001b[39m\u001b[38;5;124mtest\u001b[39m\u001b[38;5;124m'\u001b[39m, method\u001b[38;5;241m=\u001b[39mtool, args\u001b[38;5;241m=\u001b[39margs, kwargs\u001b[38;5;241m=\u001b[39mkwargs, ref\u001b[38;5;241m=\u001b[39m\u001b[38;5;28;01mNone\u001b[39;00m)\n\u001b[1;32m----> 5\u001b[0m step\u001b[38;5;241m.\u001b[39mid \u001b[38;5;241m==\u001b[39m \u001b[43mChainStep\u001b[49m\u001b[38;5;241;43m.\u001b[39;49m\u001b[43mmodel_validate_json\u001b[49m\u001b[43m(\u001b[49m\u001b[43mstep\u001b[49m\u001b[38;5;241;43m.\u001b[39;49m\u001b[43mmodel_dump_json\u001b[49m\u001b[43m(\u001b[49m\u001b[43m)\u001b[49m\u001b[43m)\u001b[49m\u001b[38;5;241m.\u001b[39mid\n",
      "File \u001b[1;32m~\\AppData\\Local\\Programs\\Python\\Python310\\lib\\site-packages\\pydantic\\main.py:597\u001b[0m, in \u001b[0;36mBaseModel.model_validate_json\u001b[1;34m(cls, json_data, strict, context)\u001b[0m\n\u001b[0;32m    595\u001b[0m \u001b[38;5;66;03m# `__tracebackhide__` tells pytest and some other tools to omit this function from tracebacks\u001b[39;00m\n\u001b[0;32m    596\u001b[0m __tracebackhide__ \u001b[38;5;241m=\u001b[39m \u001b[38;5;28;01mTrue\u001b[39;00m\n\u001b[1;32m--> 597\u001b[0m \u001b[38;5;28;01mreturn\u001b[39;00m \u001b[38;5;28;43mcls\u001b[39;49m\u001b[38;5;241;43m.\u001b[39;49m\u001b[43m__pydantic_validator__\u001b[49m\u001b[38;5;241;43m.\u001b[39;49m\u001b[43mvalidate_json\u001b[49m\u001b[43m(\u001b[49m\u001b[43mjson_data\u001b[49m\u001b[43m,\u001b[49m\u001b[43m \u001b[49m\u001b[43mstrict\u001b[49m\u001b[38;5;241;43m=\u001b[39;49m\u001b[43mstrict\u001b[49m\u001b[43m,\u001b[49m\u001b[43m \u001b[49m\u001b[43mcontext\u001b[49m\u001b[38;5;241;43m=\u001b[39;49m\u001b[43mcontext\u001b[49m\u001b[43m)\u001b[49m\n",
      "\u001b[1;31mValidationError\u001b[0m: 1 validation error for ChainStep\nmethod.type\n  Input should be 'ToolBase' [type=literal_error, input_value='AdditionTool', input_type=str]\n    For further information visit https://errors.pydantic.dev/2.8/v/literal_error"
     ]
    }
   ],
   "source": [
    "tool = AdditionTool()\n",
    "args = (1,2)\n",
    "kwargs = {}\n",
    "step = ChainStep(key='test', method=tool, args=args, kwargs=kwargs, ref=None)\n",
    "step.id == ChainStep.model_validate_json(step.model_dump_json()).id"
   ]
  }
 ],
 "metadata": {
  "kernelspec": {
   "display_name": "Python 3 (ipykernel)",
   "language": "python",
   "name": "python3"
  },
  "language_info": {
   "codemirror_mode": {
    "name": "ipython",
    "version": 3
   },
   "file_extension": ".py",
   "mimetype": "text/x-python",
   "name": "python",
   "nbconvert_exporter": "python",
   "pygments_lexer": "ipython3",
   "version": "3.10.11"
  }
 },
 "nbformat": 4,
 "nbformat_minor": 5
}
