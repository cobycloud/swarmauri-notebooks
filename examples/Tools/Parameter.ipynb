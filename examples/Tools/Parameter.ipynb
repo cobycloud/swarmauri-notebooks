{
 "cells": [
  {
   "cell_type": "markdown",
   "id": "7d460a39-4660-4738-9067-138f73761e26",
   "metadata": {},
   "source": [
    "# Import Dependencies "
   ]
  },
  {
   "cell_type": "code",
   "execution_count": 1,
   "id": "785367f2-0416-487b-af83-89c3d3179e80",
   "metadata": {},
   "outputs": [
    {
     "name": "stderr",
     "output_type": "stream",
     "text": [
      "WARNING:root:Subclass Parameter does not have a type annotation\n"
     ]
    }
   ],
   "source": [
    "from swarmauri.standard.tools.concrete.Parameter import Parameter"
   ]
  },
  {
   "cell_type": "markdown",
   "id": "219fec4d-8b0f-46f6-82cd-f292b17666b3",
   "metadata": {},
   "source": [
    "# Instantiate Parameter"
   ]
  },
  {
   "cell_type": "code",
   "execution_count": 2,
   "id": "24521913-d6ef-4eb2-bd08-7ed4db4b9e0c",
   "metadata": {},
   "outputs": [],
   "source": [
    "parameter = Parameter(\n",
    "            name=\"program\",\n",
    "            type=\"string\",\n",
    "            description=\"The program that the user wants to open ('notepad' or 'calc' or 'mspaint')\",\n",
    "            required=True,\n",
    "            enum=[\"notepad\", \"calc\", \"mspaint\"]\n",
    "        )"
   ]
  },
  {
   "cell_type": "markdown",
   "id": "ebaeff7f-96a3-423d-bdac-5550d1050589",
   "metadata": {},
   "source": [
    "# Resource of Parameter"
   ]
  },
  {
   "cell_type": "code",
   "execution_count": 4,
   "id": "a4b26278-b95f-4ab0-8700-771fd21d0015",
   "metadata": {},
   "outputs": [
    {
     "data": {
      "text/plain": [
       "'Parameter'"
      ]
     },
     "execution_count": 4,
     "metadata": {},
     "output_type": "execute_result"
    }
   ],
   "source": [
    "parameter.resource"
   ]
  }
 ],
 "metadata": {
  "kernelspec": {
   "display_name": "Python 3 (ipykernel)",
   "language": "python",
   "name": "python3"
  },
  "language_info": {
   "codemirror_mode": {
    "name": "ipython",
    "version": 3
   },
   "file_extension": ".py",
   "mimetype": "text/x-python",
   "name": "python",
   "nbconvert_exporter": "python",
   "pygments_lexer": "ipython3",
   "version": "3.10.11"
  }
 },
 "nbformat": 4,
 "nbformat_minor": 5
}
