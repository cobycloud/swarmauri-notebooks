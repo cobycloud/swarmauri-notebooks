{
 "cells": [
  {
   "cell_type": "markdown",
   "id": "7872e055-dccf-440b-a7ce-836ccfbc892f",
   "metadata": {},
   "source": [
    "# Import Dependencies"
   ]
  },
  {
   "cell_type": "code",
   "execution_count": 1,
   "id": "f52736a0-6090-464c-bf5e-a56d6bef1afa",
   "metadata": {},
   "outputs": [],
   "source": [
    "from swarmauri.standard.prompts.concrete.PromptGenerator import PromptGenerator"
   ]
  },
  {
   "cell_type": "markdown",
   "id": "1e643338-c297-4865-827c-a62e1b64cfdb",
   "metadata": {},
   "source": [
    "# Instantiate Prompt"
   ]
  },
  {
   "cell_type": "code",
   "execution_count": 2,
   "id": "eaf63f01-242a-484c-9f88-2427264f0695",
   "metadata": {},
   "outputs": [],
   "source": [
    "variables_list = [{\"number\": 100}, {\"number\": 200}, {\"number\": -1}]\n",
    "pg = PromptGenerator(template=\"We have {number} items\", variables=variables_list) "
   ]
  },
  {
   "cell_type": "markdown",
   "id": "06ca630c-d6c7-437a-bf2e-3c035a2ecf65",
   "metadata": {},
   "source": [
    "# Resource and Type of Prompt Generator|"
   ]
  },
  {
   "cell_type": "code",
   "execution_count": 3,
   "id": "fddec904-4e0b-41b0-a6a2-23c65c5f59cf",
   "metadata": {},
   "outputs": [
    {
     "data": {
      "text/plain": [
       "'Prompt'"
      ]
     },
     "execution_count": 3,
     "metadata": {},
     "output_type": "execute_result"
    }
   ],
   "source": [
    "pg.resource"
   ]
  },
  {
   "cell_type": "code",
   "execution_count": 4,
   "id": "3512e30a-cb51-4c59-af43-aa7cade49c93",
   "metadata": {},
   "outputs": [
    {
     "data": {
      "text/plain": [
       "'PromptGenerator'"
      ]
     },
     "execution_count": 4,
     "metadata": {},
     "output_type": "execute_result"
    }
   ],
   "source": [
    "pg.type"
   ]
  },
  {
   "cell_type": "markdown",
   "id": "fc1b8bcc-b294-4c7f-8e72-44419880cd28",
   "metadata": {},
   "source": [
    "# Serialization"
   ]
  },
  {
   "cell_type": "code",
   "execution_count": 5,
   "id": "1629073f-9d9f-41bf-a3c0-d2847e768126",
   "metadata": {},
   "outputs": [
    {
     "data": {
      "text/plain": [
       "True"
      ]
     },
     "execution_count": 5,
     "metadata": {},
     "output_type": "execute_result"
    }
   ],
   "source": [
    "pg.id == PromptGenerator.model_validate_json(pg.model_dump_json()).id"
   ]
  },
  {
   "cell_type": "code",
   "execution_count": 6,
   "id": "c8661a04-ecac-4009-adbe-33ffa2b0f4e9",
   "metadata": {},
   "outputs": [
    {
     "data": {
      "text/plain": [
       "[{'number': 100}, {'number': 200}, {'number': -1}]"
      ]
     },
     "execution_count": 6,
     "metadata": {},
     "output_type": "execute_result"
    }
   ],
   "source": [
    "pg.variables"
   ]
  },
  {
   "cell_type": "markdown",
   "id": "2aeb0bfb-0ff8-4186-afe0-0f06e4cf713a",
   "metadata": {},
   "source": [
    "# Call To Prompt Generator"
   ]
  },
  {
   "cell_type": "code",
   "execution_count": 7,
   "id": "9eec2483-c8df-4709-bbbf-f3247ed973a1",
   "metadata": {},
   "outputs": [],
   "source": [
    "pg_generator = pg()\n",
    "generated_list = [next(pg_generator) for _ in range(len(pg.variables))] "
   ]
  },
  {
   "cell_type": "code",
   "execution_count": 8,
   "id": "52bfa7b6-8327-4439-9771-698f58a6318c",
   "metadata": {},
   "outputs": [
    {
     "data": {
      "text/plain": [
       "['We have 100 items', 'We have 200 items', 'We have -1 items']"
      ]
     },
     "execution_count": 8,
     "metadata": {},
     "output_type": "execute_result"
    }
   ],
   "source": [
    "generated_list"
   ]
  }
 ],
 "metadata": {
  "kernelspec": {
   "display_name": "Python 3 (ipykernel)",
   "language": "python",
   "name": "python3"
  },
  "language_info": {
   "codemirror_mode": {
    "name": "ipython",
    "version": 3
   },
   "file_extension": ".py",
   "mimetype": "text/x-python",
   "name": "python",
   "nbconvert_exporter": "python",
   "pygments_lexer": "ipython3",
   "version": "3.10.11"
  }
 },
 "nbformat": 4,
 "nbformat_minor": 5
}
