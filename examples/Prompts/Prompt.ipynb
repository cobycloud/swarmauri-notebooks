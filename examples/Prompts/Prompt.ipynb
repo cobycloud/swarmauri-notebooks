{
 "cells": [
  {
   "cell_type": "markdown",
   "id": "05978cec-245e-404a-a7c7-be941ac023ed",
   "metadata": {},
   "source": [
    "# Import Dependencies"
   ]
  },
  {
   "cell_type": "code",
   "execution_count": 1,
   "id": "7c67228e-1d12-44da-8d45-fc8544a98c5d",
   "metadata": {},
   "outputs": [],
   "source": [
    "from swarmauri.standard.prompts.concrete.Prompt import Prompt"
   ]
  },
  {
   "cell_type": "markdown",
   "id": "bb24d04d-2ad0-4921-988b-726595e9c6d6",
   "metadata": {},
   "source": [
    "# Instantiate Prompt"
   ]
  },
  {
   "cell_type": "code",
   "execution_count": 2,
   "id": "3e3e4d46-8708-451d-b9a1-b8dd65407ac0",
   "metadata": {},
   "outputs": [],
   "source": [
    "prompt = Prompt(prompt='test') "
   ]
  },
  {
   "cell_type": "markdown",
   "id": "92aca57b-ebe1-49f0-9fc5-519b9bd404d6",
   "metadata": {},
   "source": [
    "# Resource and Type of Prompt"
   ]
  },
  {
   "cell_type": "code",
   "execution_count": 3,
   "id": "03087871-1b69-43d6-8a72-6575bb232263",
   "metadata": {},
   "outputs": [
    {
     "data": {
      "text/plain": [
       "'Prompt'"
      ]
     },
     "execution_count": 3,
     "metadata": {},
     "output_type": "execute_result"
    }
   ],
   "source": [
    "prompt.resource"
   ]
  },
  {
   "cell_type": "code",
   "execution_count": 4,
   "id": "d24bf171-bd0c-4313-a6fc-23cc2246e2ab",
   "metadata": {},
   "outputs": [
    {
     "data": {
      "text/plain": [
       "'Prompt'"
      ]
     },
     "execution_count": 4,
     "metadata": {},
     "output_type": "execute_result"
    }
   ],
   "source": [
    "prompt.type"
   ]
  },
  {
   "cell_type": "markdown",
   "id": "0a9566ba-4d0d-4284-8d97-259a491ecf2f",
   "metadata": {},
   "source": [
    "# Serialization"
   ]
  },
  {
   "cell_type": "code",
   "execution_count": 5,
   "id": "605cc582-dc4c-4682-b355-5cfa60edc302",
   "metadata": {},
   "outputs": [
    {
     "data": {
      "text/plain": [
       "True"
      ]
     },
     "execution_count": 5,
     "metadata": {},
     "output_type": "execute_result"
    }
   ],
   "source": [
    "prompt.id == Prompt.model_validate_json(prompt.model_dump_json()).id"
   ]
  },
  {
   "cell_type": "markdown",
   "id": "bc33e83b-9489-489a-b613-420993896c62",
   "metadata": {},
   "source": [
    "# Prompt Call"
   ]
  },
  {
   "cell_type": "code",
   "execution_count": 6,
   "id": "4e3ccf97-8783-47a2-8b91-140582eb5094",
   "metadata": {},
   "outputs": [
    {
     "data": {
      "text/plain": [
       "'test'"
      ]
     },
     "execution_count": 6,
     "metadata": {},
     "output_type": "execute_result"
    }
   ],
   "source": [
    "prompt()"
   ]
  }
 ],
 "metadata": {
  "kernelspec": {
   "display_name": "Python 3 (ipykernel)",
   "language": "python",
   "name": "python3"
  },
  "language_info": {
   "codemirror_mode": {
    "name": "ipython",
    "version": 3
   },
   "file_extension": ".py",
   "mimetype": "text/x-python",
   "name": "python",
   "nbconvert_exporter": "python",
   "pygments_lexer": "ipython3",
   "version": "3.10.11"
  }
 },
 "nbformat": 4,
 "nbformat_minor": 5
}
