{
 "cells": [
  {
   "cell_type": "markdown",
   "id": "bed0ea50-aa00-410f-8951-da2e834eb173",
   "metadata": {},
   "source": [
    "# Import Dependencies"
   ]
  },
  {
   "cell_type": "code",
   "execution_count": 1,
   "id": "6ba2e1a5-d11d-4b48-b897-4d7f4ab65c2a",
   "metadata": {},
   "outputs": [],
   "source": [
    "from swarmauri.standard.prompts.concrete.PromptTemplate import PromptTemplate"
   ]
  },
  {
   "cell_type": "markdown",
   "id": "79a21cdb-1fcf-4020-affc-81d53693e216",
   "metadata": {},
   "source": [
    "# Instantiate Prompt"
   ]
  },
  {
   "cell_type": "code",
   "execution_count": 2,
   "id": "77a90c08-a100-428d-a9a0-d9ee8092bce6",
   "metadata": {},
   "outputs": [],
   "source": [
    "pt = PromptTemplate(template=\"Please find {number} items.\")"
   ]
  },
  {
   "cell_type": "markdown",
   "id": "6b1cdb4b-b973-43e5-8114-4368757a31f3",
   "metadata": {},
   "source": [
    "# Resource and Type of PromptTemplate"
   ]
  },
  {
   "cell_type": "code",
   "execution_count": 3,
   "id": "5041462a-bb0b-4b24-a3b7-00b99249a3ea",
   "metadata": {},
   "outputs": [
    {
     "data": {
      "text/plain": [
       "'PromptTemplate'"
      ]
     },
     "execution_count": 3,
     "metadata": {},
     "output_type": "execute_result"
    }
   ],
   "source": [
    "pt.type"
   ]
  },
  {
   "cell_type": "code",
   "execution_count": 4,
   "id": "11468081-45d5-452a-abae-9c92e9cead33",
   "metadata": {},
   "outputs": [
    {
     "data": {
      "text/plain": [
       "'Prompt'"
      ]
     },
     "execution_count": 4,
     "metadata": {},
     "output_type": "execute_result"
    }
   ],
   "source": [
    "pt.resource"
   ]
  },
  {
   "cell_type": "markdown",
   "id": "eb10a6f1-fea3-444a-932d-35875cfe8ec4",
   "metadata": {},
   "source": [
    "# Serialization"
   ]
  },
  {
   "cell_type": "code",
   "execution_count": 5,
   "id": "1350d9c8-3539-42a2-b5af-93f657cd5741",
   "metadata": {},
   "outputs": [
    {
     "data": {
      "text/plain": [
       "True"
      ]
     },
     "execution_count": 5,
     "metadata": {},
     "output_type": "execute_result"
    }
   ],
   "source": [
    "pt.id == PromptTemplate.model_validate_json(pt.model_dump_json()).id"
   ]
  },
  {
   "cell_type": "markdown",
   "id": "b7c1a19c-511e-4b78-aa6f-22d60ec935d2",
   "metadata": {},
   "source": [
    "# Call To PromptTemplate"
   ]
  },
  {
   "cell_type": "code",
   "execution_count": 6,
   "id": "55f7a368-af4d-4533-9a32-ea9e01788ff6",
   "metadata": {},
   "outputs": [
    {
     "data": {
      "text/plain": [
       "'Please find 100 items.'"
      ]
     },
     "execution_count": 6,
     "metadata": {},
     "output_type": "execute_result"
    }
   ],
   "source": [
    "pt(variables={\"number\":100})"
   ]
  }
 ],
 "metadata": {
  "kernelspec": {
   "display_name": "Python 3 (ipykernel)",
   "language": "python",
   "name": "python3"
  },
  "language_info": {
   "codemirror_mode": {
    "name": "ipython",
    "version": 3
   },
   "file_extension": ".py",
   "mimetype": "text/x-python",
   "name": "python",
   "nbconvert_exporter": "python",
   "pygments_lexer": "ipython3",
   "version": "3.10.11"
  }
 },
 "nbformat": 4,
 "nbformat_minor": 5
}
