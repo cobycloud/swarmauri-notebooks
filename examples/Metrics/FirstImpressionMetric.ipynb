{
 "cells": [
  {
   "cell_type": "markdown",
   "id": "98028bac-03dd-47a4-bf55-7a55aafad7c4",
   "metadata": {},
   "source": [
    "# Import Dependencies"
   ]
  },
  {
   "cell_type": "code",
   "execution_count": 1,
   "id": "eaba6282-5839-44f4-850c-f845faf42a61",
   "metadata": {},
   "outputs": [],
   "source": [
    "from swarmauri.standard.metrics.concrete.FirstImpressionMetric import FirstImpressionMetric"
   ]
  },
  {
   "cell_type": "markdown",
   "id": "7ccc1545-3fd9-4c1f-bd5e-690179119f9f",
   "metadata": {},
   "source": [
    "# Instantiate Metric"
   ]
  },
  {
   "cell_type": "code",
   "execution_count": 2,
   "id": "89dd6cab-add3-498b-84b8-3d40b3092f18",
   "metadata": {},
   "outputs": [],
   "source": [
    "metric = FirstImpressionMetric(unit='points', value=10)"
   ]
  },
  {
   "cell_type": "markdown",
   "id": "93016d5e-63ad-4b96-b006-4981e1291cb4",
   "metadata": {},
   "source": [
    "# Type and Resource of Metric"
   ]
  },
  {
   "cell_type": "code",
   "execution_count": 3,
   "id": "3227f348-8311-448b-8f8d-23db3d17deae",
   "metadata": {},
   "outputs": [
    {
     "data": {
      "text/plain": [
       "'Metric'"
      ]
     },
     "execution_count": 3,
     "metadata": {},
     "output_type": "execute_result"
    }
   ],
   "source": [
    "metric.resource"
   ]
  },
  {
   "cell_type": "code",
   "execution_count": 4,
   "id": "511f86dd-6a29-41a8-b90e-c5fca9bdcc32",
   "metadata": {},
   "outputs": [
    {
     "data": {
      "text/plain": [
       "'FirstImpressionMetric'"
      ]
     },
     "execution_count": 4,
     "metadata": {},
     "output_type": "execute_result"
    }
   ],
   "source": [
    "metric.type"
   ]
  },
  {
   "cell_type": "markdown",
   "id": "0c36d70d-6dd5-4f74-a75b-7840d3c73785",
   "metadata": {},
   "source": [
    "# Serialization"
   ]
  },
  {
   "cell_type": "code",
   "execution_count": 5,
   "id": "4c41220e-2582-4e41-b09d-ec8855b6d85a",
   "metadata": {},
   "outputs": [
    {
     "data": {
      "text/plain": [
       "True"
      ]
     },
     "execution_count": 5,
     "metadata": {},
     "output_type": "execute_result"
    }
   ],
   "source": [
    "metric.id == FirstImpressionMetric.model_validate_json(metric.model_dump_json()).id"
   ]
  },
  {
   "cell_type": "markdown",
   "id": "8e75d362-d664-4e2f-9054-765dc7b913c1",
   "metadata": {},
   "source": [
    "# Unit and Value of Metric"
   ]
  },
  {
   "cell_type": "code",
   "execution_count": 6,
   "id": "3a879247-178e-4c9e-b0f2-f30ef014c438",
   "metadata": {},
   "outputs": [
    {
     "data": {
      "text/plain": [
       "10"
      ]
     },
     "execution_count": 6,
     "metadata": {},
     "output_type": "execute_result"
    }
   ],
   "source": [
    "metric.value"
   ]
  },
  {
   "cell_type": "code",
   "execution_count": 7,
   "id": "b54612d9-acc8-4fef-bd0d-d90476f17093",
   "metadata": {},
   "outputs": [
    {
     "data": {
      "text/plain": [
       "10"
      ]
     },
     "execution_count": 7,
     "metadata": {},
     "output_type": "execute_result"
    }
   ],
   "source": [
    "metric()"
   ]
  },
  {
   "cell_type": "code",
   "execution_count": 8,
   "id": "4b04566c-b3e1-4627-abff-fe474955ddd4",
   "metadata": {},
   "outputs": [
    {
     "data": {
      "text/plain": [
       "'points'"
      ]
     },
     "execution_count": 8,
     "metadata": {},
     "output_type": "execute_result"
    }
   ],
   "source": [
    "metric.unit"
   ]
  }
 ],
 "metadata": {
  "kernelspec": {
   "display_name": "Python 3 (ipykernel)",
   "language": "python",
   "name": "python3"
  },
  "language_info": {
   "codemirror_mode": {
    "name": "ipython",
    "version": 3
   },
   "file_extension": ".py",
   "mimetype": "text/x-python",
   "name": "python",
   "nbconvert_exporter": "python",
   "pygments_lexer": "ipython3",
   "version": "3.10.11"
  }
 },
 "nbformat": 4,
 "nbformat_minor": 5
}
